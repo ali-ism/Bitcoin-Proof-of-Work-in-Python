{
  "nbformat": 4,
  "nbformat_minor": 0,
  "metadata": {
    "colab": {
      "name": "mine_block.ipynb",
      "provenance": []
    },
    "kernelspec": {
      "display_name": "Python 3",
      "name": "python3"
    }
  },
  "cells": [
    {
      "source": [
        "**EECE 798I Assignment 2 - Mining a Personal Block**\n",
        "\n",
        "Ali ismail\n",
        "\n",
        "ami31@mail.aub.edu\n",
        "\n",
        "202022492"
      ],
      "cell_type": "markdown",
      "metadata": {}
    },
    {
      "cell_type": "code",
      "metadata": {
        "id": "p6cyyxzxXAYw"
      },
      "source": [
        "!cp /content/drive/MyDrive/Blockchain/blockchain.py ."
      ],
      "execution_count": null,
      "outputs": []
    },
    {
      "cell_type": "code",
      "metadata": {
        "id": "xvTQ3yk4YMXd"
      },
      "source": [
        "from blockchain import *"
      ],
      "execution_count": null,
      "outputs": []
    },
    {
      "cell_type": "markdown",
      "metadata": {
        "id": "qAgUQKQ3hm6j"
      },
      "source": [
        "# Creating the Block"
      ]
    },
    {
      "cell_type": "code",
      "metadata": {
        "id": "OppiF1ufhoci"
      },
      "source": [
        "hash_652492 = '00000000000000000000f7530ea483ca18ce68c9c5e7fb2b8c123d04da3534f8'\r\n",
        "my_data = BlockData('202022492', 'ami31@mail.aub.edu', 'Ali ismail')"
      ],
      "execution_count": null,
      "outputs": []
    },
    {
      "cell_type": "code",
      "metadata": {
        "id": "T5Dq6Kcs2FvO"
      },
      "source": [
        "with open('/content/drive/MyDrive/Blockchain/results.txt', 'w') as f:\r\n",
        "    f.write('letfmost_zero_bits,nonce,hash,elapsed_time,nb_iterations\\n')"
      ],
      "execution_count": null,
      "outputs": []
    },
    {
      "cell_type": "code",
      "metadata": {
        "id": "zOW5jLjMhq2j"
      },
      "source": [
        "my_block = Block(hash_652492, my_data)"
      ],
      "execution_count": null,
      "outputs": []
    },
    {
      "cell_type": "code",
      "metadata": {
        "colab": {
          "base_uri": "https://localhost:8080/"
        },
        "id": "nN86KOyphxLL",
        "outputId": "76a6453d-9f25-449d-c51d-d4de089fbee3"
      },
      "source": [
        "my_block.display()"
      ],
      "execution_count": null,
      "outputs": [
        {
          "output_type": "stream",
          "text": [
            "---------------Header---------------\n",
            "Previous Hash: 00000000000000000000f7530ea483ca18ce68c9c5e7fb2b8c123d04da3534f8\n",
            "Timestamp: 1613670952\n",
            "nonce: 0\n",
            "---------------Data---------------\n",
            "Full Name: Ali ismail\n",
            "Email: ami31@mail.aub.edu\n",
            "AUB ID: 202022492\n"
          ],
          "name": "stdout"
        }
      ]
    },
    {
      "cell_type": "code",
      "metadata": {
        "colab": {
          "base_uri": "https://localhost:8080/"
        },
        "id": "Wk_2c465hy2n",
        "outputId": "e475d91c-f85a-4d2d-f8c2-af41128d30d5"
      },
      "source": [
        "my_block.display_hex()"
      ],
      "execution_count": null,
      "outputs": [
        {
          "output_type": "stream",
          "text": [
            "---------------Header---------------\n",
            "00000000000000000000f7530ea483ca18ce68c9c5e7fb2b8c123d04da3534f8\n",
            "602eaa28\n",
            "0\n",
            "---------------Data---------------\n",
            "416c692069736d61696c\n",
            "616d693331406d61696c2e6175622e656475\n",
            "323032303232343932\n"
          ],
          "name": "stdout"
        }
      ]
    },
    {
      "source": [
        "*I realized too late that the hex representation of the AUB ID here is not the hexadecimal value of the number but instead it is taken as a string and this is the hex value of the encoding.*"
      ],
      "cell_type": "markdown",
      "metadata": {}
    },
    {
      "cell_type": "markdown",
      "metadata": {
        "id": "pWw4fP34h0fs"
      },
      "source": [
        "# Mining with Difficulty 24"
      ]
    },
    {
      "cell_type": "code",
      "metadata": {
        "colab": {
          "background_save": true
        },
        "id": "UO16bzKgh2lc"
      },
      "source": [
        "time, count = my_block.mine(24)\r\n",
        "with open('/content/drive/MyDrive/Blockchain/results.txt', 'a') as f:\r\n",
        "    f.write(f'24,{my_block.nonce},{my_block.hash()},{time},{count}\\n')"
      ],
      "execution_count": null,
      "outputs": []
    },
    {
      "cell_type": "code",
      "metadata": {
        "colab": {
          "background_save": true
        },
        "id": "LB0i4Yd4h8mX",
        "outputId": "374e5dfa-40ee-4188-bb5b-0db58ff16fbb"
      },
      "source": [
        "my_block.display()"
      ],
      "execution_count": null,
      "outputs": [
        {
          "output_type": "stream",
          "text": [
            "---------------Header---------------\n",
            "Previous Hash: 00000000000000000000f7530ea483ca18ce68c9c5e7fb2b8c123d04da3534f8\n",
            "Timestamp: 1613670952\n",
            "nonce: 4865010\n",
            "---------------Data---------------\n",
            "Full Name: Ali ismail\n",
            "Email: ami31@mail.aub.edu\n",
            "AUB ID: 202022492\n"
          ],
          "name": "stdout"
        }
      ]
    },
    {
      "cell_type": "code",
      "metadata": {
        "colab": {
          "background_save": true
        },
        "id": "CjVzEb8Lh-w8",
        "outputId": "5f2c583c-f4ff-4c10-fbcb-95bf26055212"
      },
      "source": [
        "my_block.display_hex()"
      ],
      "execution_count": null,
      "outputs": [
        {
          "output_type": "stream",
          "text": [
            "---------------Header---------------\n",
            "00000000000000000000f7530ea483ca18ce68c9c5e7fb2b8c123d04da3534f8\n",
            "602eaa28\n",
            "4a3bf2\n",
            "---------------Data---------------\n",
            "416c692069736d61696c\n",
            "616d693331406d61696c2e6175622e656475\n",
            "323032303232343932\n"
          ],
          "name": "stdout"
        }
      ]
    },
    {
      "cell_type": "markdown",
      "metadata": {
        "id": "txMpLrF6iAJx"
      },
      "source": [
        "# Mining with Higher Difficulties"
      ]
    },
    {
      "cell_type": "code",
      "metadata": {
        "id": "OuSBlKjfiCUh"
      },
      "source": [
        "for difficulty in [24, 25, 26, 27, 28, 29, 30]:\r\n",
        "    my_block = Block(hash_652492, my_data)\r\n",
        "    time, count = my_block.mine(difficulty)\r\n",
        "    with open('/content/drive/MyDrive/Blockchain/results.txt', 'a') as f:\r\n",
        "        f.write(f'{difficulty},{my_block.nonce},{my_block.hash()},{time},{count}\\n')"
      ],
      "execution_count": null,
      "outputs": []
    },
    {
      "cell_type": "markdown",
      "metadata": {
        "id": "LtOlVqYXQLwh"
      },
      "source": [
        "# Analyzing Results\r\n",
        "\r\n",
        "Google Colab CPU Specs: Intel Xeon Processor with two cores @ 2.30 GHz and 13 GB RAM (by running cat /proc/cpuinfo).\r\n",
        "\r\n",
        "Could not find exact specifications regarding which generation of the Xeon line of processors is being used."
      ]
    },
    {
      "cell_type": "code",
      "metadata": {
        "id": "2vg0aoRIxPet"
      },
      "source": [
        "import pandas as pd"
      ],
      "execution_count": null,
      "outputs": []
    },
    {
      "cell_type": "code",
      "metadata": {
        "colab": {
          "base_uri": "https://localhost:8080/",
          "height": 238
        },
        "id": "bxFgcBJvxQ39",
        "outputId": "2ce2905c-c389-4872-d18f-c526cbd099ba"
      },
      "source": [
        "df = pd.read_csv('/content/drive/MyDrive/Blockchain/results.txt', index_col=0)\r\n",
        "df"
      ],
      "execution_count": null,
      "outputs": [
        {
          "output_type": "execute_result",
          "data": {
            "text/html": [
              "<div>\n",
              "<style scoped>\n",
              "    .dataframe tbody tr th:only-of-type {\n",
              "        vertical-align: middle;\n",
              "    }\n",
              "\n",
              "    .dataframe tbody tr th {\n",
              "        vertical-align: top;\n",
              "    }\n",
              "\n",
              "    .dataframe thead th {\n",
              "        text-align: right;\n",
              "    }\n",
              "</style>\n",
              "<table border=\"1\" class=\"dataframe\">\n",
              "  <thead>\n",
              "    <tr style=\"text-align: right;\">\n",
              "      <th></th>\n",
              "      <th>nonce</th>\n",
              "      <th>hash</th>\n",
              "      <th>elapsed_time</th>\n",
              "      <th>nb_iterations</th>\n",
              "    </tr>\n",
              "    <tr>\n",
              "      <th>letfmost_zero_bits</th>\n",
              "      <th></th>\n",
              "      <th></th>\n",
              "      <th></th>\n",
              "      <th></th>\n",
              "    </tr>\n",
              "  </thead>\n",
              "  <tbody>\n",
              "    <tr>\n",
              "      <th>24</th>\n",
              "      <td>4865010</td>\n",
              "      <td>0000008e9f5f4e89d4397313189f4b4da75d56cfd6f57e...</td>\n",
              "      <td>536.896967</td>\n",
              "      <td>4865010</td>\n",
              "    </tr>\n",
              "    <tr>\n",
              "      <th>25</th>\n",
              "      <td>26011767</td>\n",
              "      <td>0000003523b693181666bba1b2efd6872227db2e80d727...</td>\n",
              "      <td>2819.663760</td>\n",
              "      <td>26011767</td>\n",
              "    </tr>\n",
              "    <tr>\n",
              "      <th>26</th>\n",
              "      <td>23379315</td>\n",
              "      <td>00000007a4d7ef7886513c3c2611fa88d1960c4c6ecd64...</td>\n",
              "      <td>2491.029109</td>\n",
              "      <td>23379315</td>\n",
              "    </tr>\n",
              "    <tr>\n",
              "      <th>27</th>\n",
              "      <td>158334133</td>\n",
              "      <td>0000000787c1fea3853b2ad235eb6bd759131e2ba540d4...</td>\n",
              "      <td>16863.059871</td>\n",
              "      <td>158334133</td>\n",
              "    </tr>\n",
              "    <tr>\n",
              "      <th>28</th>\n",
              "      <td>59164704</td>\n",
              "      <td>00000000e084ad5d932bf0f96945d243809bb8998725e8...</td>\n",
              "      <td>6282.023301</td>\n",
              "      <td>59164704</td>\n",
              "    </tr>\n",
              "  </tbody>\n",
              "</table>\n",
              "</div>"
            ],
            "text/plain": [
              "                        nonce  ... nb_iterations\n",
              "letfmost_zero_bits             ...              \n",
              "24                    4865010  ...       4865010\n",
              "25                   26011767  ...      26011767\n",
              "26                   23379315  ...      23379315\n",
              "27                  158334133  ...     158334133\n",
              "28                   59164704  ...      59164704\n",
              "\n",
              "[5 rows x 4 columns]"
            ]
          },
          "metadata": {
            "tags": []
          },
          "execution_count": 3
        }
      ]
    },
    {
      "cell_type": "code",
      "metadata": {
        "colab": {
          "base_uri": "https://localhost:8080/",
          "height": 238
        },
        "id": "OtWUG64h0JS_",
        "outputId": "8628e0f2-86a6-4e3d-c603-f7a14fae9fa4"
      },
      "source": [
        "df['nonce'] = df['nonce'].apply(hex)\r\n",
        "df"
      ],
      "execution_count": null,
      "outputs": [
        {
          "output_type": "execute_result",
          "data": {
            "text/html": [
              "<div>\n",
              "<style scoped>\n",
              "    .dataframe tbody tr th:only-of-type {\n",
              "        vertical-align: middle;\n",
              "    }\n",
              "\n",
              "    .dataframe tbody tr th {\n",
              "        vertical-align: top;\n",
              "    }\n",
              "\n",
              "    .dataframe thead th {\n",
              "        text-align: right;\n",
              "    }\n",
              "</style>\n",
              "<table border=\"1\" class=\"dataframe\">\n",
              "  <thead>\n",
              "    <tr style=\"text-align: right;\">\n",
              "      <th></th>\n",
              "      <th>nonce</th>\n",
              "      <th>hash</th>\n",
              "      <th>elapsed_time</th>\n",
              "      <th>nb_iterations</th>\n",
              "    </tr>\n",
              "    <tr>\n",
              "      <th>letfmost_zero_bits</th>\n",
              "      <th></th>\n",
              "      <th></th>\n",
              "      <th></th>\n",
              "      <th></th>\n",
              "    </tr>\n",
              "  </thead>\n",
              "  <tbody>\n",
              "    <tr>\n",
              "      <th>24</th>\n",
              "      <td>0x4a3bf2</td>\n",
              "      <td>0000008e9f5f4e89d4397313189f4b4da75d56cfd6f57e...</td>\n",
              "      <td>536.896967</td>\n",
              "      <td>4865010</td>\n",
              "    </tr>\n",
              "    <tr>\n",
              "      <th>25</th>\n",
              "      <td>0x18ce877</td>\n",
              "      <td>0000003523b693181666bba1b2efd6872227db2e80d727...</td>\n",
              "      <td>2819.663760</td>\n",
              "      <td>26011767</td>\n",
              "    </tr>\n",
              "    <tr>\n",
              "      <th>26</th>\n",
              "      <td>0x164bd73</td>\n",
              "      <td>00000007a4d7ef7886513c3c2611fa88d1960c4c6ecd64...</td>\n",
              "      <td>2491.029109</td>\n",
              "      <td>23379315</td>\n",
              "    </tr>\n",
              "    <tr>\n",
              "      <th>27</th>\n",
              "      <td>0x96ffcb5</td>\n",
              "      <td>0000000787c1fea3853b2ad235eb6bd759131e2ba540d4...</td>\n",
              "      <td>16863.059871</td>\n",
              "      <td>158334133</td>\n",
              "    </tr>\n",
              "    <tr>\n",
              "      <th>28</th>\n",
              "      <td>0x386c820</td>\n",
              "      <td>00000000e084ad5d932bf0f96945d243809bb8998725e8...</td>\n",
              "      <td>6282.023301</td>\n",
              "      <td>59164704</td>\n",
              "    </tr>\n",
              "  </tbody>\n",
              "</table>\n",
              "</div>"
            ],
            "text/plain": [
              "                        nonce  ... nb_iterations\n",
              "letfmost_zero_bits             ...              \n",
              "24                   0x4a3bf2  ...       4865010\n",
              "25                  0x18ce877  ...      26011767\n",
              "26                  0x164bd73  ...      23379315\n",
              "27                  0x96ffcb5  ...     158334133\n",
              "28                  0x386c820  ...      59164704\n",
              "\n",
              "[5 rows x 4 columns]"
            ]
          },
          "metadata": {
            "tags": []
          },
          "execution_count": 15
        }
      ]
    },
    {
      "cell_type": "code",
      "metadata": {
        "colab": {
          "base_uri": "https://localhost:8080/"
        },
        "id": "17DZ40OIxuHB",
        "outputId": "28f159dc-3ea7-49d2-a3ec-3cab951f9b6a"
      },
      "source": [
        "itps = (df['nb_iterations']/df['elapsed_time']).mean()\r\n",
        "print(f'Average Iterations per Second: {itps}')"
      ],
      "execution_count": null,
      "outputs": [
        {
          "output_type": "stream",
          "text": [
            "Average Iterations per Second: 9295.877279849059\n"
          ],
          "name": "stdout"
        }
      ]
    },
    {
      "cell_type": "code",
      "metadata": {
        "colab": {
          "base_uri": "https://localhost:8080/",
          "height": 283
        },
        "id": "74FVykwuyv-E",
        "outputId": "e51f7f12-d8a9-4e7f-c9fb-ef9fff1ac626"
      },
      "source": [
        "df.plot.bar(y='elapsed_time');"
      ],
      "execution_count": null,
      "outputs": [
        {
          "output_type": "display_data",
          "data": {
            "image/png": "[encoded data removed]",
            "text/plain": [
              "<Figure size 432x288 with 1 Axes>"
            ]
          },
          "metadata": {
            "tags": [],
            "needs_background": "light"
          }
        }
      ]
    },
    {
      "cell_type": "code",
      "metadata": {
        "colab": {
          "base_uri": "https://localhost:8080/",
          "height": 294
        },
        "id": "iDIbqKk4zNOz",
        "outputId": "cab36a54-a121-4487-d84a-94aa820e8ab6"
      },
      "source": [
        "df.plot.bar(y='nb_iterations');"
      ],
      "execution_count": null,
      "outputs": [
        {
          "output_type": "display_data",
          "data": {
            "image/png": "[encoded data removed]",
            "text/plain": [
              "<Figure size 432x288 with 1 Axes>"
            ]
          },
          "metadata": {
            "tags": [],
            "needs_background": "light"
          }
        }
      ]
    },
    {
      "cell_type": "markdown",
      "metadata": {
        "id": "2EvH9blV0vgn"
      },
      "source": [
        "Mining at difficulty 29 took more than 12 hours which exceeds the maximum time for Colab.\r\n",
        "\r\n",
        "In general, it is expected that when difficulty increases the number of needed iterations should increase as it becomes less and less likely to find a nonce that satisfies the number of leftmost zero bits in the hash.\r\n",
        "\r\n",
        "On a high level, this can be seen to be partially true since the 27 and 28 difficulties took significantly more computations than the lesser ones.\r\n",
        "\r\n",
        "However, the important takeaway here that this is not a rule and cannot be expected to be regularly observed. The 26 difficulty took slightly less iterations than the 25. The 28 difficulty took less than half of the iterations that were needed for the 27 difficulty. Also, in a previous run of this experiment (data not shown here), the 24 difficulty took about twice as much iterations than what is shown here.\r\n",
        "\r\n",
        "This irregularity is due to the memoryless property of this proof-of-work algorithm. There is no progression in the process and the number of needed computations to find a working nonce cannot be anticipated.\r\n",
        "\r\n",
        "*Regarding measurement of energy consumption, I found the two below solutions for measuring the energy consumed when running a block of Python code but both can only run on a machine running linux (not windows or mac). It does not even work on a linux virtual machine (like Colab).*\r\n",
        "- https://pyjoules.readthedocs.io/en/latest/#limitation\r\n",
        "- https://github.com/responsibleproblemsolving/energy-usage#limitations\r\n"
      ]
    }
  ]
}